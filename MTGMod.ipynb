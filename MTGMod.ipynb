{
 "cells": [
  {
   "cell_type": "code",
   "execution_count": 6,
   "metadata": {
    "collapsed": false
   },
   "outputs": [],
   "source": [
    "import numpy as np\n",
    "import matplotlib.pyplot as plt\n",
    "import math as m\n",
    "import random"
   ]
  },
  {
   "cell_type": "code",
   "execution_count": 31,
   "metadata": {
    "collapsed": false
   },
   "outputs": [
    {
     "name": "stdout",
     "output_type": "stream",
     "text": [
      "[39, 4, 35, 33, 47, 2, 58]\n",
      "['NL', 'L', 'NL', 'NL', 'NL', 'L', 'NL']\n"
     ]
    }
   ],
   "source": [
    "# Defining some variables\n",
    "deck_size = 60\n",
    "draws = 7\n",
    "hand = []\n",
    "lands = 24\n",
    "\n",
    "# Drawing random cards from the deck\n",
    "temp = random.sample(range(60),draws)\n",
    "hand.extend(temp)\n",
    "\n",
    "print(hand)\n",
    "\n",
    "# Determining if a card is a land or not (lands are 0-23)\n",
    "for i in range(len(hand)):\n",
    "    if hand[i] < lands:\n",
    "        hand[i] = 'L'\n",
    "    else:\n",
    "        hand[i] = 'NL'\n",
    "\n",
    "print(hand)"
   ]
  },
  {
   "cell_type": "code",
   "execution_count": null,
   "metadata": {
    "collapsed": false
   },
   "outputs": [],
   "source": []
  },
  {
   "cell_type": "code",
   "execution_count": null,
   "metadata": {
    "collapsed": true
   },
   "outputs": [],
   "source": []
  }
 ],
 "metadata": {
  "anaconda-cloud": {},
  "kernelspec": {
   "display_name": "Python [Root]",
   "language": "python",
   "name": "Python [Root]"
  },
  "language_info": {
   "codemirror_mode": {
    "name": "ipython",
    "version": 3
   },
   "file_extension": ".py",
   "mimetype": "text/x-python",
   "name": "python",
   "nbconvert_exporter": "python",
   "pygments_lexer": "ipython3",
   "version": "3.5.2"
  }
 },
 "nbformat": 4,
 "nbformat_minor": 0
}
